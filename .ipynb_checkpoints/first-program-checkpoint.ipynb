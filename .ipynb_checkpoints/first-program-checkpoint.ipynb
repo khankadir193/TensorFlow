{
 "cells": [
  {
   "cell_type": "code",
   "execution_count": 3,
   "id": "e1c54d8e-f3cf-4ebb-a7df-41ae80d3cbdf",
   "metadata": {},
   "outputs": [],
   "source": [
    "import tensorflow as tf;"
   ]
  },
  {
   "cell_type": "code",
   "execution_count": 4,
   "id": "5450c1a0-4b25-4617-a5c7-09c181ae7192",
   "metadata": {},
   "outputs": [
    {
     "data": {
      "text/plain": [
       "'2.10.0'"
      ]
     },
     "execution_count": 4,
     "metadata": {},
     "output_type": "execute_result"
    }
   ],
   "source": [
    "tf.__version__"
   ]
  },
  {
   "cell_type": "code",
   "execution_count": 12,
   "id": "6d5f16a6-49a3-4628-9e21-27d93a2cf47e",
   "metadata": {},
   "outputs": [
    {
     "data": {
      "text/plain": [
       "False"
      ]
     },
     "execution_count": 12,
     "metadata": {},
     "output_type": "execute_result"
    }
   ],
   "source": [
    "#check gpu availability..\n",
    "a = tf.test.is_gpu_available();\n",
    "a"
   ]
  },
  {
   "cell_type": "code",
   "execution_count": 11,
   "id": "1062d193-8e9a-4c30-957d-be559e86d228",
   "metadata": {},
   "outputs": [
    {
     "data": {
      "text/plain": [
       "<tf.Tensor: shape=(), dtype=int32, numpy=10>"
      ]
     },
     "execution_count": 11,
     "metadata": {},
     "output_type": "execute_result"
    }
   ],
   "source": [
    "#Create integer constant\n",
    "a = tf.constant(10);\n",
    "a"
   ]
  },
  {
   "cell_type": "code",
   "execution_count": 13,
   "id": "74d64a1e-d37a-4b30-bfa1-5c923ddfdfb7",
   "metadata": {},
   "outputs": [
    {
     "data": {
      "text/plain": [
       "<tf.Tensor: shape=(), dtype=float32, numpy=10.34>"
      ]
     },
     "execution_count": 13,
     "metadata": {},
     "output_type": "execute_result"
    }
   ],
   "source": [
    "#Create float constant\n",
    "b = tf.constant(10.34);\n",
    "b"
   ]
  },
  {
   "cell_type": "code",
   "execution_count": 14,
   "id": "30ec6d71-2c01-4f12-9e99-0b8d4c22b9fd",
   "metadata": {},
   "outputs": [
    {
     "data": {
      "text/plain": [
       "<tf.Tensor: shape=(), dtype=string, numpy=b'abdul kadir khan'>"
      ]
     },
     "execution_count": 14,
     "metadata": {},
     "output_type": "execute_result"
    }
   ],
   "source": [
    "#Create string constant\n",
    "c = tf.constant(\"abdul kadir khan\");\n",
    "c"
   ]
  },
  {
   "cell_type": "code",
   "execution_count": 16,
   "id": "482ea5f9-837c-41df-b37b-828ab8635b1a",
   "metadata": {},
   "outputs": [
    {
     "data": {
      "text/plain": [
       "<tf.Tensor: shape=(), dtype=bool, numpy=True>"
      ]
     },
     "execution_count": 16,
     "metadata": {},
     "output_type": "execute_result"
    }
   ],
   "source": [
    "#Create boolean constant\n",
    "d = tf.constant(True);\n",
    "d"
   ]
  },
  {
   "cell_type": "code",
   "execution_count": null,
   "id": "6523c39d-73fa-4aca-af46-fc93de0b7e24",
   "metadata": {},
   "outputs": [],
   "source": [
    "#create constant numpy array/list/tuple\n",
    "# import numpy as np;"
   ]
  },
  {
   "cell_type": "code",
   "execution_count": 22,
   "id": "17ee64df-7ab9-4bd2-936f-9732d94c885d",
   "metadata": {},
   "outputs": [
    {
     "data": {
      "text/plain": [
       "<tf.Tensor: shape=(4,), dtype=int32, numpy=array([1, 2, 3, 4])>"
      ]
     },
     "execution_count": 22,
     "metadata": {},
     "output_type": "execute_result"
    }
   ],
   "source": [
    "import numpy as np;\n",
    "np_array = tf.constant(np.array([1,2,3,4]));\n",
    "np_array"
   ]
  },
  {
   "cell_type": "code",
   "execution_count": 24,
   "id": "b2fc99a5-6514-43eb-9691-f0e9de49ca34",
   "metadata": {},
   "outputs": [
    {
     "data": {
      "text/plain": [
       "<tf.Tensor: shape=(5,), dtype=int32, numpy=array([10, 20, 30, 40, 50])>"
      ]
     },
     "execution_count": 24,
     "metadata": {},
     "output_type": "execute_result"
    }
   ],
   "source": [
    "#create 1D constant\n",
    "c_1d = tf.constant([10,20,30,40,50]);\n",
    "c_1d"
   ]
  },
  {
   "cell_type": "code",
   "execution_count": 29,
   "id": "50846e09-afa2-4f30-9bce-a72ad9d90605",
   "metadata": {},
   "outputs": [
    {
     "data": {
      "text/plain": [
       "<tf.Tensor: shape=(2, 3), dtype=int32, numpy=\n",
       "array([[ 10,  20, 100],\n",
       "       [ 30,  40,  50]])>"
      ]
     },
     "execution_count": 29,
     "metadata": {},
     "output_type": "execute_result"
    }
   ],
   "source": [
    "#create 2D constant row,columns\n",
    "c_2d = tf.constant([[10,20,100],[30,40,50]]);\n",
    "c_2d"
   ]
  },
  {
   "cell_type": "code",
   "execution_count": 35,
   "id": "9310fff1-fe67-45e5-833e-5d10d246839c",
   "metadata": {},
   "outputs": [
    {
     "data": {
      "text/plain": [
       "<tf.Tensor: shape=(2, 3), dtype=float32, numpy=\n",
       "array([[ 10.,  20., 100.],\n",
       "       [ 30.,  40.,  50.]], dtype=float32)>"
      ]
     },
     "execution_count": 35,
     "metadata": {},
     "output_type": "execute_result"
    }
   ],
   "source": [
    "#getting the actual value of the constant..\n",
    "c_2d = tf.constant([[10,20,100],[30,40,50]],shape=(2,3),dtype=\"float32\");\n",
    "c_2d"
   ]
  },
  {
   "cell_type": "code",
   "execution_count": 38,
   "id": "5e62156c-d565-4591-8e93-2dbc55674e63",
   "metadata": {},
   "outputs": [
    {
     "data": {
      "text/plain": [
       "<tf.Tensor: shape=(3, 2), dtype=int32, numpy=\n",
       "array([[10, 20],\n",
       "       [30, 50],\n",
       "       [98, 12]])>"
      ]
     },
     "execution_count": 38,
     "metadata": {},
     "output_type": "execute_result"
    }
   ],
   "source": [
    "#create N-D constant\n",
    "c_Nd = tf.constant([[10,20],[30,50],[98,12]]);\n",
    "c_Nd"
   ]
  },
  {
   "cell_type": "code",
   "execution_count": null,
   "id": "e65b1f66-18e8-4e09-a944-5f204059a8d8",
   "metadata": {},
   "outputs": [],
   "source": []
  }
 ],
 "metadata": {
  "kernelspec": {
   "display_name": "Python 3 (ipykernel)",
   "language": "python",
   "name": "python3"
  },
  "language_info": {
   "codemirror_mode": {
    "name": "ipython",
    "version": 3
   },
   "file_extension": ".py",
   "mimetype": "text/x-python",
   "name": "python",
   "nbconvert_exporter": "python",
   "pygments_lexer": "ipython3",
   "version": "3.9.18"
  }
 },
 "nbformat": 4,
 "nbformat_minor": 5
}
