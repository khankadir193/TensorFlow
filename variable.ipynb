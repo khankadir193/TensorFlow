{
 "cells": [
  {
   "cell_type": "code",
   "execution_count": null,
   "id": "ed61e59c-ee1a-4e5f-9efd-a57d6d5783e4",
   "metadata": {},
   "outputs": [],
   "source": [
    "#In TensorFlow, a variable is a special type of tensor that is mutable and can be modified during the execution of a computation graph. Variables are \n",
    "#typically used to represent parameters or stateful entities in a neural network model, such as weights and biases. Unlike regular tensors, \n",
    "#which are immutable and cannot be changed once created, variables retain their values across multiple calls to the computational graph.\n",
    "#in variable we can changed only value rathar than shape and types."
   ]
  },
  {
   "cell_type": "code",
   "execution_count": null,
   "id": "65a09617-7b2d-4d90-a627-76b0f0c24d49",
   "metadata": {},
   "outputs": [],
   "source": []
  }
 ],
 "metadata": {
  "kernelspec": {
   "display_name": "Python 3 (ipykernel)",
   "language": "python",
   "name": "python3"
  },
  "language_info": {
   "codemirror_mode": {
    "name": "ipython",
    "version": 3
   },
   "file_extension": ".py",
   "mimetype": "text/x-python",
   "name": "python",
   "nbconvert_exporter": "python",
   "pygments_lexer": "ipython3",
   "version": "3.12.1"
  }
 },
 "nbformat": 4,
 "nbformat_minor": 5
}
